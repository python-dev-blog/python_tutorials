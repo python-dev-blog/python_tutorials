{
 "cells": [
  {
   "cell_type": "markdown",
   "metadata": {},
   "source": [
    "# Как называть переменные?\n",
    "\n",
    "## Соглашение по именованию"
   ]
  },
  {
   "cell_type": "markdown",
   "metadata": {},
   "source": [
    "### Зачем?\n",
    "\n",
    "1. Для уменьшения сложности системы\n",
    "\n",
    "2. Для легкого чтения и понимания кода без вникания в детали реализации"
   ]
  },
  {
   "cell_type": "markdown",
   "metadata": {},
   "source": [
    "### Допустимые значения для идентификаторов\n",
    "\n",
    "- Первым символом идентификатора может быть буква из алфавита (символ ASCII в верхнем или нижнем регистре, или символ Unicode), а также символ подчёркивания _\n",
    "\n",
    "\n",
    "\n",
    "- Остальная часть может быть точно такой же, а также включать в себя цифры 0-9\n",
    "\n",
    "Примеры:"
   ]
  },
  {
   "cell_type": "code",
   "execution_count": null,
   "metadata": {},
   "outputs": [],
   "source": [
    "name = 'Lena'\n",
    "name_1 = 'Lena'\n",
    "_name = 'Lena'\n",
    "Name = 'Lena'"
   ]
  },
  {
   "cell_type": "markdown",
   "metadata": {},
   "source": [
    "Обратите внимание, что имена чувствительны к регистру, поэтому name и Name это разные переменные!\n",
    "\n",
    "А создавать переменные с русскоязычными названиями это плохая практика!"
   ]
  },
  {
   "cell_type": "code",
   "execution_count": 1,
   "metadata": {},
   "outputs": [],
   "source": [
    "имя = 'Лена'  # !!!!! Так лучше не делать"
   ]
  },
  {
   "cell_type": "markdown",
   "metadata": {},
   "source": [
    " - Недопустимые названия:"
   ]
  },
  {
   "cell_type": "code",
   "execution_count": null,
   "metadata": {},
   "outputs": [],
   "source": [
    "1name\n",
    "\n",
    "my-name"
   ]
  },
  {
   "cell_type": "markdown",
   "metadata": {},
   "source": [
    "### Названия переменных - существительные\n",
    "\n",
    "разделение слов при помощи нижнего подчеркивания: last_name\n",
    "\n",
    "Правило: \n",
    "\n",
    "1. Имя должно отражать суть, а не реализацию\n",
    "\n",
    "2. Имени должно быть достаточно, чтобы отразить точную суть и чтобы не приходилось читать код до и после объявления переменной\n",
    "\n",
    "Пример слишком широкого имени для переменной:"
   ]
  },
  {
   "cell_type": "code",
   "execution_count": 4,
   "metadata": {},
   "outputs": [],
   "source": [
    "last_name = 'Lena'"
   ]
  },
  {
   "cell_type": "code",
   "execution_count": null,
   "metadata": {},
   "outputs": [],
   "source": [
    "user = User.objects.filter(is_active=True)"
   ]
  },
  {
   "cell_type": "markdown",
   "metadata": {},
   "source": [
    "Пример более подходящего имени для переменной:"
   ]
  },
  {
   "cell_type": "code",
   "execution_count": null,
   "metadata": {},
   "outputs": [],
   "source": [
    "active_user = User.objects.filter(is_active=True)"
   ]
  },
  {
   "cell_type": "code",
   "execution_count": null,
   "metadata": {},
   "outputs": [],
   "source": [
    "_var = 'var'"
   ]
  },
  {
   "cell_type": "markdown",
   "metadata": {},
   "source": [
    "### Как идентификаторы лучше не называть:\n",
    "\n",
    "1. Одиночными буквами l (эль), I (ай), O (о) \n",
    " \n",
    " \n",
    "2. По возможности лучше избегать однобуквенные идентификаторы (за исключением случаев, когда это уместно - lambda-функции, небольшие циклы)"
   ]
  },
  {
   "cell_type": "code",
   "execution_count": null,
   "metadata": {},
   "outputs": [],
   "source": [
    "for i in range(10):\n",
    "    print(i)\n",
    "    \n",
    "lambda x: x < 100"
   ]
  },
  {
   "cell_type": "markdown",
   "metadata": {},
   "source": [
    "3. Лучше не использовать труднопроизносимые сокращения, а также необщепринятые аббревиатуры (например, HTTP, USD - общепринятые аббревиатуры и их можно использовать)\n",
    "\n",
    "\n",
    "4. Нельзя использовать зарезервированные слова python, например, print, input. Вместо этого лучше использовать нижнее подчеркивание после слова, например, type_ вместо type\n"
   ]
  },
  {
   "cell_type": "markdown",
   "metadata": {},
   "source": [
    "#### Названия булевых переменных\n",
    "\n",
    "должны отражать, что в переменной может быть только True или False\n",
    "\n",
    "обычно начинаются с is_... например, is_active"
   ]
  },
  {
   "cell_type": "code",
   "execution_count": 5,
   "metadata": {},
   "outputs": [],
   "source": [
    "is_active = True"
   ]
  },
  {
   "cell_type": "markdown",
   "metadata": {},
   "source": [
    "is_not не используют, если нужно отрицание, то оно прибавляется к основному слову, например, не is_not_active, а is_inactive, is_suspended или что угодно, что подходит по смыслу"
   ]
  },
  {
   "cell_type": "code",
   "execution_count": 6,
   "metadata": {},
   "outputs": [],
   "source": [
    "is_inactive = True"
   ]
  },
  {
   "cell_type": "markdown",
   "metadata": {},
   "source": [
    "### Названия констант\n",
    "\n",
    "Капсом и разделяя слова нижним подчеркиванием, например, MAX_OVERFLOW"
   ]
  },
  {
   "cell_type": "code",
   "execution_count": 7,
   "metadata": {},
   "outputs": [],
   "source": [
    "IGDB_URL = 'https://api.igdb.com/v4/games'\n",
    "IGDB_API_KEY = 'api-key'"
   ]
  },
  {
   "cell_type": "markdown",
   "metadata": {},
   "source": [
    "<b>Правила</b>\n",
    "\n",
    "1. не хардкодить константы\n",
    "\n",
    "2. не изменять значения констант в коде\n",
    "\n",
    "3. хранить ключи в переменных окружения или конфигурационных файлах"
   ]
  },
  {
   "cell_type": "markdown",
   "metadata": {},
   "source": [
    "### Названия функций - глагол, действие\n",
    "\n",
    "в нижнем регистре, слова разделяются нижним подчеркиванием\n",
    "\n",
    "1. НЕ ИСПОЛЬЗОВАТЬ and в имени, функция должна делать только 1 действие\n",
    "\n",
    "\n",
    "2. использовать общепринятые правила, например, получить значение это get_..."
   ]
  },
  {
   "cell_type": "code",
   "execution_count": 8,
   "metadata": {},
   "outputs": [],
   "source": [
    "def get_active_users():\n",
    "    pass"
   ]
  },
  {
   "cell_type": "markdown",
   "metadata": {},
   "source": [
    "3. Не забывать про строки документации, но не описывать подробности реализации без надобности"
   ]
  },
  {
   "cell_type": "markdown",
   "metadata": {},
   "source": [
    "### Название модулей и пакетов\n",
    "\n",
    "1. такие же как и у переменных, однако следует их делать короткими\n",
    "\n",
    "\n",
    "2. не использовать _ при наименовании пакетов"
   ]
  },
  {
   "cell_type": "code",
   "execution_count": 9,
   "metadata": {},
   "outputs": [],
   "source": [
    "from datetime import date\n",
    "import os\n",
    "import sys"
   ]
  },
  {
   "cell_type": "markdown",
   "metadata": {},
   "source": [
    "### Названия классов\n",
    "\n",
    "CamelCase'ом - User, UserSetting\n",
    "\n",
    "существительное, например, отражение объекта в реальном мире - Person, Animal..."
   ]
  },
  {
   "cell_type": "code",
   "execution_count": null,
   "metadata": {},
   "outputs": [],
   "source": [
    "class User:\n",
    "    pass # pass = ничего не делать\n",
    "\n",
    "class UserSetting:\n",
    "    pass"
   ]
  },
  {
   "cell_type": "markdown",
   "metadata": {},
   "source": [
    "#### [Поля класса](https://pythonworld.ru/osnovy/pep-8-rukovodstvo-po-napisaniyu-koda-na-python.html#id17)\n",
    "\n",
    "1. такое же правило, как и для обычных переменных - маленькими буквами + слова разделяются '_'\n",
    "\n",
    "\n",
    "2. если нужно создать внутреннюю переменную класса (то есть для использования ТОЛЬКО внутри класса), то нужно добавить __ перед ее именем. К таким переменным применяется искажение имен (Name mangling)"
   ]
  },
  {
   "cell_type": "code",
   "execution_count": 29,
   "metadata": {},
   "outputs": [],
   "source": [
    "class User:\n",
    "    COUNT = 0\n",
    "    \n",
    "    def __init__(self, name): # self!\n",
    "        self.name = name\n",
    "        self.__capitalized_name = name.capitalize()\n",
    "        User.COUNT += 1\n",
    "        \n",
    "    def __str__(self):\n",
    "        return f'User name - {self.name}!'\n",
    "    \n",
    "    @classmethod\n",
    "    def print_instance_counf(cls): # cls!\n",
    "        print(f'Total count of users : {User.COUNT}')\n",
    "    "
   ]
  },
  {
   "cell_type": "code",
   "execution_count": 30,
   "metadata": {},
   "outputs": [],
   "source": [
    "user = User('lena')"
   ]
  },
  {
   "cell_type": "code",
   "execution_count": 12,
   "metadata": {},
   "outputs": [
    {
     "data": {
      "text/plain": [
       "['_User__capitalized_name',\n",
       " '__class__',\n",
       " '__delattr__',\n",
       " '__dict__',\n",
       " '__dir__',\n",
       " '__doc__',\n",
       " '__eq__',\n",
       " '__format__',\n",
       " '__ge__',\n",
       " '__getattribute__',\n",
       " '__gt__',\n",
       " '__hash__',\n",
       " '__init__',\n",
       " '__init_subclass__',\n",
       " '__le__',\n",
       " '__lt__',\n",
       " '__module__',\n",
       " '__ne__',\n",
       " '__new__',\n",
       " '__reduce__',\n",
       " '__reduce_ex__',\n",
       " '__repr__',\n",
       " '__setattr__',\n",
       " '__sizeof__',\n",
       " '__str__',\n",
       " '__subclasshook__',\n",
       " '__weakref__',\n",
       " 'name']"
      ]
     },
     "execution_count": 12,
     "metadata": {},
     "output_type": "execute_result"
    }
   ],
   "source": [
    "dir(user)"
   ]
  },
  {
   "cell_type": "code",
   "execution_count": 13,
   "metadata": {},
   "outputs": [
    {
     "data": {
      "text/plain": [
       "'lena'"
      ]
     },
     "execution_count": 13,
     "metadata": {},
     "output_type": "execute_result"
    }
   ],
   "source": [
    "user.name"
   ]
  },
  {
   "cell_type": "code",
   "execution_count": 14,
   "metadata": {},
   "outputs": [
    {
     "ename": "AttributeError",
     "evalue": "'User' object has no attribute '__capitalized_name'",
     "output_type": "error",
     "traceback": [
      "\u001b[0;31m---------------------------------------------------------------------------\u001b[0m",
      "\u001b[0;31mAttributeError\u001b[0m                            Traceback (most recent call last)",
      "\u001b[0;32m<ipython-input-14-e6616dbf8027>\u001b[0m in \u001b[0;36m<module>\u001b[0;34m\u001b[0m\n\u001b[0;32m----> 1\u001b[0;31m \u001b[0muser\u001b[0m\u001b[0;34m.\u001b[0m\u001b[0m__capitalized_name\u001b[0m\u001b[0;34m\u001b[0m\u001b[0;34m\u001b[0m\u001b[0m\n\u001b[0m",
      "\u001b[0;31mAttributeError\u001b[0m: 'User' object has no attribute '__capitalized_name'"
     ]
    }
   ],
   "source": [
    "user.__capitalized_name"
   ]
  },
  {
   "cell_type": "code",
   "execution_count": 15,
   "metadata": {},
   "outputs": [
    {
     "data": {
      "text/plain": [
       "'Lena'"
      ]
     },
     "execution_count": 15,
     "metadata": {},
     "output_type": "execute_result"
    }
   ],
   "source": [
    "user._User__capitalized_name"
   ]
  },
  {
   "cell_type": "code",
   "execution_count": 18,
   "metadata": {},
   "outputs": [
    {
     "name": "stdout",
     "output_type": "stream",
     "text": [
      "User name - lena!\n"
     ]
    }
   ],
   "source": [
    "print(user)"
   ]
  },
  {
   "cell_type": "code",
   "execution_count": 31,
   "metadata": {},
   "outputs": [
    {
     "name": "stdout",
     "output_type": "stream",
     "text": [
      "Total count of users : 1\n"
     ]
    }
   ],
   "source": [
    "User.print_instance_counf()"
   ]
  },
  {
   "cell_type": "code",
   "execution_count": null,
   "metadata": {},
   "outputs": [],
   "source": []
  },
  {
   "cell_type": "markdown",
   "metadata": {},
   "source": [
    "### Названия исключений\n",
    "\n",
    "CamelCase + Error"
   ]
  },
  {
   "cell_type": "code",
   "execution_count": 32,
   "metadata": {},
   "outputs": [],
   "source": [
    "class NegValException(Exception):\n",
    "    pass"
   ]
  },
  {
   "cell_type": "markdown",
   "metadata": {},
   "source": [
    "### Summary по '_'\n",
    "\n",
    "1. _var - подсказка для программиста, что переменная для внутреннего использования, такие функции и переменные не импортируются по умолчанию через *"
   ]
  },
  {
   "cell_type": "code",
   "execution_count": null,
   "metadata": {},
   "outputs": [],
   "source": [
    "from module import * # _var не будет в области видимости\n",
    "\n",
    "import module\n",
    "module._var # а так можем использовать _var, но это неправильно!"
   ]
  },
  {
   "cell_type": "markdown",
   "metadata": {},
   "source": [
    "2. var_ - если самое подходящее имя уже зарезервированно python - например, type можно заменить на type_"
   ]
  },
  {
   "cell_type": "code",
   "execution_count": null,
   "metadata": {},
   "outputs": [],
   "source": [
    "def check_type(type): # этот вариант неправильный!\n",
    "    pass\n",
    "\n",
    "def ckech_type(type_):\n",
    "    pass"
   ]
  },
  {
   "cell_type": "markdown",
   "metadata": {},
   "source": [
    "3. __var - внутренняя переменная класса, у ним будет применяться искажение имен, то есть получить доступ к ней можно будет только при помощи _ ClassName __var"
   ]
  },
  {
   "cell_type": "code",
   "execution_count": 33,
   "metadata": {},
   "outputs": [
    {
     "ename": "AttributeError",
     "evalue": "'User' object has no attribute '__capitalized_name'",
     "output_type": "error",
     "traceback": [
      "\u001b[0;31m---------------------------------------------------------------------------\u001b[0m",
      "\u001b[0;31mAttributeError\u001b[0m                            Traceback (most recent call last)",
      "\u001b[0;32m<ipython-input-33-9047a8fc7752>\u001b[0m in \u001b[0;36m<module>\u001b[0;34m\u001b[0m\n\u001b[1;32m      4\u001b[0m \u001b[0;34m\u001b[0m\u001b[0m\n\u001b[1;32m      5\u001b[0m \u001b[0muser\u001b[0m \u001b[0;34m=\u001b[0m \u001b[0mUser\u001b[0m\u001b[0;34m(\u001b[0m\u001b[0;34m'lena'\u001b[0m\u001b[0;34m)\u001b[0m\u001b[0;34m\u001b[0m\u001b[0;34m\u001b[0m\u001b[0m\n\u001b[0;32m----> 6\u001b[0;31m \u001b[0muser\u001b[0m\u001b[0;34m.\u001b[0m\u001b[0m__capitalized_name\u001b[0m\u001b[0;34m\u001b[0m\u001b[0;34m\u001b[0m\u001b[0m\n\u001b[0m",
      "\u001b[0;31mAttributeError\u001b[0m: 'User' object has no attribute '__capitalized_name'"
     ]
    }
   ],
   "source": [
    "class User:\n",
    "    def __init__(self, name):\n",
    "        self.__capitalized_name = name.capitalize()\n",
    "\n",
    "user = User('lena')\n",
    "user.__capitalized_name"
   ]
  },
  {
   "cell_type": "code",
   "execution_count": 34,
   "metadata": {},
   "outputs": [
    {
     "data": {
      "text/plain": [
       "'Lena'"
      ]
     },
     "execution_count": 34,
     "metadata": {},
     "output_type": "execute_result"
    }
   ],
   "source": [
    "user._User__capitalized_name"
   ]
  },
  {
   "cell_type": "markdown",
   "metadata": {},
   "source": [
    "4. __ var __ - искажение имен не применяется, лучше не создавать свои и использовать только встроенные, например, __ init __, __ str __"
   ]
  },
  {
   "cell_type": "code",
   "execution_count": 35,
   "metadata": {},
   "outputs": [
    {
     "name": "stdout",
     "output_type": "stream",
     "text": [
      "User name - Lena!\n"
     ]
    }
   ],
   "source": [
    "class User:\n",
    "    def __init__(self, name):\n",
    "        self.name = name\n",
    "        \n",
    "    def __str__(self):\n",
    "        return f'User name - {self.name}!'\n",
    "\n",
    "user = User('Lena')\n",
    "print(user)"
   ]
  }
 ],
 "metadata": {
  "kernelspec": {
   "display_name": "Python 3",
   "language": "python",
   "name": "python3"
  },
  "language_info": {
   "codemirror_mode": {
    "name": "ipython",
    "version": 3
   },
   "file_extension": ".py",
   "mimetype": "text/x-python",
   "name": "python",
   "nbconvert_exporter": "python",
   "pygments_lexer": "ipython3",
   "version": "3.7.3"
  }
 },
 "nbformat": 4,
 "nbformat_minor": 2
}
